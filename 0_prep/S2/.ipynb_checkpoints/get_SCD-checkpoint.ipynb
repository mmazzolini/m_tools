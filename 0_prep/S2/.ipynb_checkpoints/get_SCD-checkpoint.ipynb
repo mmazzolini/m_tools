{
 "cells": [
  {
   "cell_type": "code",
   "execution_count": 12,
   "id": "6fe1b857",
   "metadata": {},
   "outputs": [],
   "source": [
    "# script for creating netcdf files ready for musa\n",
    "\n",
    "import numpy as np\n",
    "import pandas as pd\n",
    "import xarray as xr\n",
    "# system stuff\n",
    "from glob import glob\n",
    "import os\n",
    "import sys\n",
    "import socket\n",
    "import datetime\n",
    "import matplotlib.pyplot as plt\n",
    "import rasterio as rio\n",
    "import rasterio\n",
    "#import pyproj\n",
    "\n",
    "# import custom modules\n",
    "if socket.gethostname() == 'ra':\n",
    "    basepath = '/home/marcomaz/snowdepth/'\n",
    "else :    \n",
    "    basepath = '/uio/hypatia/geofag-felles/projects/snowdepth/'\n",
    "    \n",
    "mytoolspath = basepath + 'code/tools/own_repos/snowdepth/tools'\n",
    "sys.path.append(mytoolspath)\n",
    "wd = basepath+'marcomaz/Izas_op_2/'\n",
    "#dempath = basepath+'data/MuSA_op/MuSA_input/DEM/DEM.nc'\n",
    "#topopath = basepath+'data/Modeling/TopoSCALE/'\n",
    "dempath = basepath+'data/Modeling/MuSA/DEM/Dem_full.nc'"
   ]
  },
  {
   "cell_type": "code",
   "execution_count": 13,
   "id": "82c3ea10",
   "metadata": {},
   "outputs": [],
   "source": [
    "def reproject_raster(in_path:str, out_path:str, crs:str)-> str:\n",
    "\n",
    "\n",
    "    \"\"\"Function to reproject a raster to another crs and save the file in the input path\n",
    "        in_path \n",
    "\t\tout_path   \n",
    "\t\tcrs (example: 'EPSG:25830');\n",
    "\t\t\"\"\"\n",
    "\t\n",
    "    # reproject raster to project crs\n",
    "    with rio.open(in_path) as src:\n",
    "        src_crs = src.crs\n",
    "        transform, width, height = rasterio.warp.calculate_default_transform(src_crs, crs, src.width, src.height, *src.bounds)\n",
    "        kwargs = src.meta.copy()\n",
    "\n",
    "        kwargs.update({\n",
    "            'crs': crs,\n",
    "            'transform': transform,\n",
    "            'width': width,\n",
    "            'height': height})\n",
    "\n",
    "        with rio.open(out_path, 'w', **kwargs) as dst:\n",
    "            for i in range(1, src.count + 1):\n",
    "                rasterio.warp.reproject(\n",
    "                    source=rio.band(src, i),\n",
    "                    destination=rio.band(dst, i),\n",
    "                    src_transform=src.transform,\n",
    "                    src_crs=src.crs,\n",
    "                    dst_transform=transform,\n",
    "                    dst_crs=crs,\n",
    "                    resampling=rasterio.enums.Resampling.nearest)\n",
    "\t\t\t\t\t\n",
    "    return(out_path)"
   ]
  },
  {
   "cell_type": "code",
   "execution_count": 2,
   "id": "b7ac6d69",
   "metadata": {},
   "outputs": [],
   "source": [
    "scd_path = basepath+'data/Theia/theia_download/SCD/'\n"
   ]
  },
  {
   "cell_type": "code",
   "execution_count": 3,
   "id": "f5c39b43",
   "metadata": {},
   "outputs": [],
   "source": [
    "file = scd_path+'MULTISAT_20190901-000000-000_L3B-SNOW_T30TYN_C_V1-0_SCD_R2.tif'"
   ]
  },
  {
   "cell_type": "code",
   "execution_count": 4,
   "id": "263615d2",
   "metadata": {},
   "outputs": [],
   "source": [
    "scd = rio.open(file)"
   ]
  },
  {
   "cell_type": "code",
   "execution_count": 6,
   "id": "50476de1",
   "metadata": {},
   "outputs": [
    {
     "data": {
      "text/plain": [
       "CRS.from_epsg(32630)"
      ]
     },
     "execution_count": 6,
     "metadata": {},
     "output_type": "execute_result"
    }
   ],
   "source": [
    "crs = rio.crs.CRS.from_epsg(25830)\n",
    "\n",
    "dem.tags\n",
    "\n",
    "kwds = dem.profile\n",
    "kwds['driver']='GTiff'\n",
    "kwds['crs']=crs\n"
   ]
  },
  {
   "cell_type": "code",
   "execution_count": 9,
   "id": "43b0e637",
   "metadata": {},
   "outputs": [],
   "source": [
    "file_out = scd_path+'MULTISAT_20190901-000000-000_L3B-SNOW_T30TYN_C_V1-0_SCD_R2_reprok.tif'"
   ]
  },
  {
   "cell_type": "code",
   "execution_count": 10,
   "id": "1b5dce57",
   "metadata": {},
   "outputs": [],
   "source": [
    "crsstr = 'EPSG:25830'"
   ]
  },
  {
   "cell_type": "code",
   "execution_count": 14,
   "id": "7cc69fcc",
   "metadata": {},
   "outputs": [
    {
     "ename": "AttributeError",
     "evalue": "module 'rasterio' has no attribute 'warp'",
     "output_type": "error",
     "traceback": [
      "\u001b[0;31m---------------------------------------------------------------------------\u001b[0m",
      "\u001b[0;31mAttributeError\u001b[0m                            Traceback (most recent call last)",
      "Input \u001b[0;32mIn [14]\u001b[0m, in \u001b[0;36m<cell line: 1>\u001b[0;34m()\u001b[0m\n\u001b[0;32m----> 1\u001b[0m \u001b[43mreproject_raster\u001b[49m\u001b[43m(\u001b[49m\u001b[43min_path\u001b[49m\u001b[38;5;241;43m=\u001b[39;49m\u001b[43mfile\u001b[49m\u001b[43m,\u001b[49m\u001b[43m \u001b[49m\u001b[43mout_path\u001b[49m\u001b[38;5;241;43m=\u001b[39;49m\u001b[43mfile_out\u001b[49m\u001b[43m,\u001b[49m\u001b[43m \u001b[49m\u001b[43mcrs\u001b[49m\u001b[38;5;241;43m=\u001b[39;49m\u001b[43mcrsstr\u001b[49m\u001b[43m)\u001b[49m\n",
      "Input \u001b[0;32mIn [13]\u001b[0m, in \u001b[0;36mreproject_raster\u001b[0;34m(in_path, out_path, crs)\u001b[0m\n\u001b[1;32m     11\u001b[0m \u001b[38;5;28;01mwith\u001b[39;00m rio\u001b[38;5;241m.\u001b[39mopen(in_path) \u001b[38;5;28;01mas\u001b[39;00m src:\n\u001b[1;32m     12\u001b[0m     src_crs \u001b[38;5;241m=\u001b[39m src\u001b[38;5;241m.\u001b[39mcrs\n\u001b[0;32m---> 13\u001b[0m     transform, width, height \u001b[38;5;241m=\u001b[39m \u001b[43mrio\u001b[49m\u001b[38;5;241;43m.\u001b[39;49m\u001b[43mwarp\u001b[49m\u001b[38;5;241m.\u001b[39mcalculate_default_transform(src_crs, crs, src\u001b[38;5;241m.\u001b[39mwidth, src\u001b[38;5;241m.\u001b[39mheight, \u001b[38;5;241m*\u001b[39msrc\u001b[38;5;241m.\u001b[39mbounds)\n\u001b[1;32m     14\u001b[0m     kwargs \u001b[38;5;241m=\u001b[39m src\u001b[38;5;241m.\u001b[39mmeta\u001b[38;5;241m.\u001b[39mcopy()\n\u001b[1;32m     16\u001b[0m     kwargs\u001b[38;5;241m.\u001b[39mupdate({\n\u001b[1;32m     17\u001b[0m         \u001b[38;5;124m'\u001b[39m\u001b[38;5;124mcrs\u001b[39m\u001b[38;5;124m'\u001b[39m: crs,\n\u001b[1;32m     18\u001b[0m         \u001b[38;5;124m'\u001b[39m\u001b[38;5;124mtransform\u001b[39m\u001b[38;5;124m'\u001b[39m: transform,\n\u001b[1;32m     19\u001b[0m         \u001b[38;5;124m'\u001b[39m\u001b[38;5;124mwidth\u001b[39m\u001b[38;5;124m'\u001b[39m: width,\n\u001b[1;32m     20\u001b[0m         \u001b[38;5;124m'\u001b[39m\u001b[38;5;124mheight\u001b[39m\u001b[38;5;124m'\u001b[39m: height})\n",
      "\u001b[0;31mAttributeError\u001b[0m: module 'rasterio' has no attribute 'warp'"
     ]
    }
   ],
   "source": [
    "reproject_raster(in_path=file, out_path=file_out, crs=crsstr)\n"
   ]
  },
  {
   "cell_type": "code",
   "execution_count": null,
   "id": "f9a8e2a6",
   "metadata": {},
   "outputs": [],
   "source": []
  }
 ],
 "metadata": {
  "kernelspec": {
   "display_name": "Python 3 (ipykernel)",
   "language": "python",
   "name": "python3"
  },
  "language_info": {
   "codemirror_mode": {
    "name": "ipython",
    "version": 3
   },
   "file_extension": ".py",
   "mimetype": "text/x-python",
   "name": "python",
   "nbconvert_exporter": "python",
   "pygments_lexer": "ipython3",
   "version": "3.10.4"
  }
 },
 "nbformat": 4,
 "nbformat_minor": 5
}
